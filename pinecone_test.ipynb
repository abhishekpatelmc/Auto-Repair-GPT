{
 "cells": [
  {
   "cell_type": "code",
   "execution_count": 178,
   "metadata": {},
   "outputs": [
    {
     "data": {
      "text/plain": [
       "<OpenAIObject list at 0x1cc8d2f4e50> JSON: {\n",
       "  \"data\": [\n",
       "    {\n",
       "      \"created\": null,\n",
       "      \"id\": \"whisper-1\",\n",
       "      \"object\": \"engine\",\n",
       "      \"owner\": \"openai-internal\",\n",
       "      \"permissions\": null,\n",
       "      \"ready\": true\n",
       "    },\n",
       "    {\n",
       "      \"created\": null,\n",
       "      \"id\": \"babbage\",\n",
       "      \"object\": \"engine\",\n",
       "      \"owner\": \"openai\",\n",
       "      \"permissions\": null,\n",
       "      \"ready\": true\n",
       "    },\n",
       "    {\n",
       "      \"created\": null,\n",
       "      \"id\": \"davinci\",\n",
       "      \"object\": \"engine\",\n",
       "      \"owner\": \"openai\",\n",
       "      \"permissions\": null,\n",
       "      \"ready\": true\n",
       "    },\n",
       "    {\n",
       "      \"created\": null,\n",
       "      \"id\": \"text-davinci-edit-001\",\n",
       "      \"object\": \"engine\",\n",
       "      \"owner\": \"openai\",\n",
       "      \"permissions\": null,\n",
       "      \"ready\": true\n",
       "    },\n",
       "    {\n",
       "      \"created\": null,\n",
       "      \"id\": \"babbage-code-search-code\",\n",
       "      \"object\": \"engine\",\n",
       "      \"owner\": \"openai-dev\",\n",
       "      \"permissions\": null,\n",
       "      \"ready\": true\n",
       "    },\n",
       "    {\n",
       "      \"created\": null,\n",
       "      \"id\": \"text-similarity-babbage-001\",\n",
       "      \"object\": \"engine\",\n",
       "      \"owner\": \"openai-dev\",\n",
       "      \"permissions\": null,\n",
       "      \"ready\": true\n",
       "    },\n",
       "    {\n",
       "      \"created\": null,\n",
       "      \"id\": \"code-davinci-edit-001\",\n",
       "      \"object\": \"engine\",\n",
       "      \"owner\": \"openai\",\n",
       "      \"permissions\": null,\n",
       "      \"ready\": true\n",
       "    },\n",
       "    {\n",
       "      \"created\": null,\n",
       "      \"id\": \"text-davinci-001\",\n",
       "      \"object\": \"engine\",\n",
       "      \"owner\": \"openai\",\n",
       "      \"permissions\": null,\n",
       "      \"ready\": true\n",
       "    },\n",
       "    {\n",
       "      \"created\": null,\n",
       "      \"id\": \"ada\",\n",
       "      \"object\": \"engine\",\n",
       "      \"owner\": \"openai\",\n",
       "      \"permissions\": null,\n",
       "      \"ready\": true\n",
       "    },\n",
       "    {\n",
       "      \"created\": null,\n",
       "      \"id\": \"babbage-code-search-text\",\n",
       "      \"object\": \"engine\",\n",
       "      \"owner\": \"openai-dev\",\n",
       "      \"permissions\": null,\n",
       "      \"ready\": true\n",
       "    },\n",
       "    {\n",
       "      \"created\": null,\n",
       "      \"id\": \"babbage-similarity\",\n",
       "      \"object\": \"engine\",\n",
       "      \"owner\": \"openai-dev\",\n",
       "      \"permissions\": null,\n",
       "      \"ready\": true\n",
       "    },\n",
       "    {\n",
       "      \"created\": null,\n",
       "      \"id\": \"code-search-babbage-text-001\",\n",
       "      \"object\": \"engine\",\n",
       "      \"owner\": \"openai-dev\",\n",
       "      \"permissions\": null,\n",
       "      \"ready\": true\n",
       "    },\n",
       "    {\n",
       "      \"created\": null,\n",
       "      \"id\": \"text-curie-001\",\n",
       "      \"object\": \"engine\",\n",
       "      \"owner\": \"openai\",\n",
       "      \"permissions\": null,\n",
       "      \"ready\": true\n",
       "    },\n",
       "    {\n",
       "      \"created\": null,\n",
       "      \"id\": \"code-search-babbage-code-001\",\n",
       "      \"object\": \"engine\",\n",
       "      \"owner\": \"openai-dev\",\n",
       "      \"permissions\": null,\n",
       "      \"ready\": true\n",
       "    },\n",
       "    {\n",
       "      \"created\": null,\n",
       "      \"id\": \"gpt-3.5-turbo-0613\",\n",
       "      \"object\": \"engine\",\n",
       "      \"owner\": \"openai\",\n",
       "      \"permissions\": null,\n",
       "      \"ready\": true\n",
       "    },\n",
       "    {\n",
       "      \"created\": null,\n",
       "      \"id\": \"text-ada-001\",\n",
       "      \"object\": \"engine\",\n",
       "      \"owner\": \"openai\",\n",
       "      \"permissions\": null,\n",
       "      \"ready\": true\n",
       "    },\n",
       "    {\n",
       "      \"created\": null,\n",
       "      \"id\": \"text-similarity-ada-001\",\n",
       "      \"object\": \"engine\",\n",
       "      \"owner\": \"openai-dev\",\n",
       "      \"permissions\": null,\n",
       "      \"ready\": true\n",
       "    },\n",
       "    {\n",
       "      \"created\": null,\n",
       "      \"id\": \"curie-instruct-beta\",\n",
       "      \"object\": \"engine\",\n",
       "      \"owner\": \"openai\",\n",
       "      \"permissions\": null,\n",
       "      \"ready\": true\n",
       "    },\n",
       "    {\n",
       "      \"created\": null,\n",
       "      \"id\": \"gpt-3.5-turbo-0301\",\n",
       "      \"object\": \"engine\",\n",
       "      \"owner\": \"openai\",\n",
       "      \"permissions\": null,\n",
       "      \"ready\": true\n",
       "    },\n",
       "    {\n",
       "      \"created\": null,\n",
       "      \"id\": \"gpt-3.5-turbo\",\n",
       "      \"object\": \"engine\",\n",
       "      \"owner\": \"openai\",\n",
       "      \"permissions\": null,\n",
       "      \"ready\": true\n",
       "    },\n",
       "    {\n",
       "      \"created\": null,\n",
       "      \"id\": \"ada-code-search-code\",\n",
       "      \"object\": \"engine\",\n",
       "      \"owner\": \"openai-dev\",\n",
       "      \"permissions\": null,\n",
       "      \"ready\": true\n",
       "    },\n",
       "    {\n",
       "      \"created\": null,\n",
       "      \"id\": \"ada-similarity\",\n",
       "      \"object\": \"engine\",\n",
       "      \"owner\": \"openai-dev\",\n",
       "      \"permissions\": null,\n",
       "      \"ready\": true\n",
       "    },\n",
       "    {\n",
       "      \"created\": null,\n",
       "      \"id\": \"code-search-ada-text-001\",\n",
       "      \"object\": \"engine\",\n",
       "      \"owner\": \"openai-dev\",\n",
       "      \"permissions\": null,\n",
       "      \"ready\": true\n",
       "    },\n",
       "    {\n",
       "      \"created\": null,\n",
       "      \"id\": \"text-search-ada-query-001\",\n",
       "      \"object\": \"engine\",\n",
       "      \"owner\": \"openai-dev\",\n",
       "      \"permissions\": null,\n",
       "      \"ready\": true\n",
       "    },\n",
       "    {\n",
       "      \"created\": null,\n",
       "      \"id\": \"davinci-search-document\",\n",
       "      \"object\": \"engine\",\n",
       "      \"owner\": \"openai-dev\",\n",
       "      \"permissions\": null,\n",
       "      \"ready\": true\n",
       "    },\n",
       "    {\n",
       "      \"created\": null,\n",
       "      \"id\": \"ada-code-search-text\",\n",
       "      \"object\": \"engine\",\n",
       "      \"owner\": \"openai-dev\",\n",
       "      \"permissions\": null,\n",
       "      \"ready\": true\n",
       "    },\n",
       "    {\n",
       "      \"created\": null,\n",
       "      \"id\": \"text-search-ada-doc-001\",\n",
       "      \"object\": \"engine\",\n",
       "      \"owner\": \"openai-dev\",\n",
       "      \"permissions\": null,\n",
       "      \"ready\": true\n",
       "    },\n",
       "    {\n",
       "      \"created\": null,\n",
       "      \"id\": \"davinci-instruct-beta\",\n",
       "      \"object\": \"engine\",\n",
       "      \"owner\": \"openai\",\n",
       "      \"permissions\": null,\n",
       "      \"ready\": true\n",
       "    },\n",
       "    {\n",
       "      \"created\": null,\n",
       "      \"id\": \"text-similarity-curie-001\",\n",
       "      \"object\": \"engine\",\n",
       "      \"owner\": \"openai-dev\",\n",
       "      \"permissions\": null,\n",
       "      \"ready\": true\n",
       "    },\n",
       "    {\n",
       "      \"created\": null,\n",
       "      \"id\": \"code-search-ada-code-001\",\n",
       "      \"object\": \"engine\",\n",
       "      \"owner\": \"openai-dev\",\n",
       "      \"permissions\": null,\n",
       "      \"ready\": true\n",
       "    },\n",
       "    {\n",
       "      \"created\": null,\n",
       "      \"id\": \"ada-search-query\",\n",
       "      \"object\": \"engine\",\n",
       "      \"owner\": \"openai-dev\",\n",
       "      \"permissions\": null,\n",
       "      \"ready\": true\n",
       "    },\n",
       "    {\n",
       "      \"created\": null,\n",
       "      \"id\": \"text-search-davinci-query-001\",\n",
       "      \"object\": \"engine\",\n",
       "      \"owner\": \"openai-dev\",\n",
       "      \"permissions\": null,\n",
       "      \"ready\": true\n",
       "    },\n",
       "    {\n",
       "      \"created\": null,\n",
       "      \"id\": \"curie-search-query\",\n",
       "      \"object\": \"engine\",\n",
       "      \"owner\": \"openai-dev\",\n",
       "      \"permissions\": null,\n",
       "      \"ready\": true\n",
       "    },\n",
       "    {\n",
       "      \"created\": null,\n",
       "      \"id\": \"davinci-search-query\",\n",
       "      \"object\": \"engine\",\n",
       "      \"owner\": \"openai-dev\",\n",
       "      \"permissions\": null,\n",
       "      \"ready\": true\n",
       "    },\n",
       "    {\n",
       "      \"created\": null,\n",
       "      \"id\": \"babbage-search-document\",\n",
       "      \"object\": \"engine\",\n",
       "      \"owner\": \"openai-dev\",\n",
       "      \"permissions\": null,\n",
       "      \"ready\": true\n",
       "    },\n",
       "    {\n",
       "      \"created\": null,\n",
       "      \"id\": \"ada-search-document\",\n",
       "      \"object\": \"engine\",\n",
       "      \"owner\": \"openai-dev\",\n",
       "      \"permissions\": null,\n",
       "      \"ready\": true\n",
       "    },\n",
       "    {\n",
       "      \"created\": null,\n",
       "      \"id\": \"text-search-curie-query-001\",\n",
       "      \"object\": \"engine\",\n",
       "      \"owner\": \"openai-dev\",\n",
       "      \"permissions\": null,\n",
       "      \"ready\": true\n",
       "    },\n",
       "    {\n",
       "      \"created\": null,\n",
       "      \"id\": \"text-search-babbage-doc-001\",\n",
       "      \"object\": \"engine\",\n",
       "      \"owner\": \"openai-dev\",\n",
       "      \"permissions\": null,\n",
       "      \"ready\": true\n",
       "    },\n",
       "    {\n",
       "      \"created\": null,\n",
       "      \"id\": \"curie-search-document\",\n",
       "      \"object\": \"engine\",\n",
       "      \"owner\": \"openai-dev\",\n",
       "      \"permissions\": null,\n",
       "      \"ready\": true\n",
       "    },\n",
       "    {\n",
       "      \"created\": null,\n",
       "      \"id\": \"text-search-curie-doc-001\",\n",
       "      \"object\": \"engine\",\n",
       "      \"owner\": \"openai-dev\",\n",
       "      \"permissions\": null,\n",
       "      \"ready\": true\n",
       "    },\n",
       "    {\n",
       "      \"created\": null,\n",
       "      \"id\": \"babbage-search-query\",\n",
       "      \"object\": \"engine\",\n",
       "      \"owner\": \"openai-dev\",\n",
       "      \"permissions\": null,\n",
       "      \"ready\": true\n",
       "    },\n",
       "    {\n",
       "      \"created\": null,\n",
       "      \"id\": \"text-babbage-001\",\n",
       "      \"object\": \"engine\",\n",
       "      \"owner\": \"openai\",\n",
       "      \"permissions\": null,\n",
       "      \"ready\": true\n",
       "    },\n",
       "    {\n",
       "      \"created\": null,\n",
       "      \"id\": \"text-search-davinci-doc-001\",\n",
       "      \"object\": \"engine\",\n",
       "      \"owner\": \"openai-dev\",\n",
       "      \"permissions\": null,\n",
       "      \"ready\": true\n",
       "    },\n",
       "    {\n",
       "      \"created\": null,\n",
       "      \"id\": \"text-search-babbage-query-001\",\n",
       "      \"object\": \"engine\",\n",
       "      \"owner\": \"openai-dev\",\n",
       "      \"permissions\": null,\n",
       "      \"ready\": true\n",
       "    },\n",
       "    {\n",
       "      \"created\": null,\n",
       "      \"id\": \"curie-similarity\",\n",
       "      \"object\": \"engine\",\n",
       "      \"owner\": \"openai-dev\",\n",
       "      \"permissions\": null,\n",
       "      \"ready\": true\n",
       "    },\n",
       "    {\n",
       "      \"created\": null,\n",
       "      \"id\": \"gpt-3.5-turbo-16k-0613\",\n",
       "      \"object\": \"engine\",\n",
       "      \"owner\": \"openai\",\n",
       "      \"permissions\": null,\n",
       "      \"ready\": true\n",
       "    },\n",
       "    {\n",
       "      \"created\": null,\n",
       "      \"id\": \"curie\",\n",
       "      \"object\": \"engine\",\n",
       "      \"owner\": \"openai\",\n",
       "      \"permissions\": null,\n",
       "      \"ready\": true\n",
       "    },\n",
       "    {\n",
       "      \"created\": null,\n",
       "      \"id\": \"text-embedding-ada-002\",\n",
       "      \"object\": \"engine\",\n",
       "      \"owner\": \"openai-internal\",\n",
       "      \"permissions\": null,\n",
       "      \"ready\": true\n",
       "    },\n",
       "    {\n",
       "      \"created\": null,\n",
       "      \"id\": \"gpt-3.5-turbo-16k\",\n",
       "      \"object\": \"engine\",\n",
       "      \"owner\": \"openai-internal\",\n",
       "      \"permissions\": null,\n",
       "      \"ready\": true\n",
       "    },\n",
       "    {\n",
       "      \"created\": null,\n",
       "      \"id\": \"text-similarity-davinci-001\",\n",
       "      \"object\": \"engine\",\n",
       "      \"owner\": \"openai-dev\",\n",
       "      \"permissions\": null,\n",
       "      \"ready\": true\n",
       "    },\n",
       "    {\n",
       "      \"created\": null,\n",
       "      \"id\": \"text-davinci-002\",\n",
       "      \"object\": \"engine\",\n",
       "      \"owner\": \"openai\",\n",
       "      \"permissions\": null,\n",
       "      \"ready\": true\n",
       "    },\n",
       "    {\n",
       "      \"created\": null,\n",
       "      \"id\": \"text-davinci-003\",\n",
       "      \"object\": \"engine\",\n",
       "      \"owner\": \"openai-internal\",\n",
       "      \"permissions\": null,\n",
       "      \"ready\": true\n",
       "    },\n",
       "    {\n",
       "      \"created\": null,\n",
       "      \"id\": \"davinci-similarity\",\n",
       "      \"object\": \"engine\",\n",
       "      \"owner\": \"openai-dev\",\n",
       "      \"permissions\": null,\n",
       "      \"ready\": true\n",
       "    }\n",
       "  ],\n",
       "  \"object\": \"list\"\n",
       "}"
      ]
     },
     "execution_count": 178,
     "metadata": {},
     "output_type": "execute_result"
    }
   ],
   "source": [
    "import os\n",
    "import openai\n",
    "\n",
    "# get API key from top-right dropdown on OpenAI website\n",
    "openai.api_key = os.getenv(\"OPENAI_API_KEY\") or \"OPENAI_API_KEY\"\n",
    "\n",
    "# api_key = os.getenv(\"OPENAI_API_KEY\")\n",
    "\n",
    "openai.Engine.list()  # check we have authenticated"
   ]
  },
  {
   "cell_type": "code",
   "execution_count": 179,
   "metadata": {},
   "outputs": [],
   "source": [
    "def complete(prompt):\n",
    "    # query text-davinci-003\n",
    "    res = openai.Completion.create(\n",
    "        engine='text-davinci-003',\n",
    "        prompt=prompt,\n",
    "        temperature=0,\n",
    "        max_tokens=400,\n",
    "        top_p=1,\n",
    "        frequency_penalty=0,\n",
    "        presence_penalty=0,\n",
    "        stop=None\n",
    "    )\n",
    "    return res['choices'][0]['text'].strip()"
   ]
  },
  {
   "cell_type": "code",
   "execution_count": 181,
   "metadata": {},
   "outputs": [],
   "source": [
    "embed_model = \"text-embedding-ada-002\"\n",
    "\n",
    "res = openai.Embedding.create(\n",
    "    input=[\n",
    "        \"Sample document text goes here\",\n",
    "        \"there will be several phrases in each batch\"\n",
    "    ], engine=embed_model\n",
    ")"
   ]
  },
  {
   "attachments": {},
   "cell_type": "markdown",
   "metadata": {},
   "source": [
    "# initiating pinecone"
   ]
  },
  {
   "cell_type": "code",
   "execution_count": 182,
   "metadata": {},
   "outputs": [],
   "source": [
    "import pinecone\n",
    "\n",
    "# initialize connection to pinecone (get API key at app.pinecone.io)\n",
    "api_key = os.getenv(\"PINECONE_API_KEY\") or \"PINECONE_API_KEY\"\n",
    "# find your environment next to the api key in pinecone console\n",
    "env = os.getenv(\"PINECONE_ENVIRONMENT\") or \"PINECONE_ENVIRONMENT\"\n",
    "\n",
    "pinecone.init(api_key = api_key, environment = env)\n",
    "# pinecone.whoami()"
   ]
  },
  {
   "cell_type": "code",
   "execution_count": 183,
   "metadata": {},
   "outputs": [
    {
     "data": {
      "text/plain": [
       "['car-repair-docs']"
      ]
     },
     "execution_count": 183,
     "metadata": {},
     "output_type": "execute_result"
    }
   ],
   "source": [
    "pinecone.list_indexes()"
   ]
  },
  {
   "cell_type": "code",
   "execution_count": 184,
   "metadata": {},
   "outputs": [],
   "source": [
    "index = pinecone.Index(\"car-repair-docs\")\n"
   ]
  },
  {
   "cell_type": "code",
   "execution_count": 185,
   "metadata": {},
   "outputs": [
    {
     "data": {
      "text/plain": [
       "{'dimension': 1536,\n",
       " 'index_fullness': 0.0,\n",
       " 'namespaces': {'': {'vector_count': 83}},\n",
       " 'total_vector_count': 83}"
      ]
     },
     "execution_count": 185,
     "metadata": {},
     "output_type": "execute_result"
    }
   ],
   "source": [
    "index.describe_index_stats()"
   ]
  },
  {
   "attachments": {},
   "cell_type": "markdown",
   "metadata": {},
   "source": [
    "# pdf reader"
   ]
  },
  {
   "cell_type": "code",
   "execution_count": 186,
   "metadata": {},
   "outputs": [],
   "source": [
    "import PyPDF2"
   ]
  },
  {
   "cell_type": "code",
   "execution_count": 187,
   "metadata": {},
   "outputs": [
    {
     "name": "stdout",
     "output_type": "stream",
     "text": [
      "No. of Pages: 84\n"
     ]
    }
   ],
   "source": [
    "# Open the PDF file in binary mode\n",
    "with open('Crawfords_Auto_Repair_Guide.pdf', 'rb') as pdf_file:\n",
    "    # Create a PDF file reader object\n",
    "    pdf_reader = PyPDF2.PdfReader(pdf_file)\n",
    "\n",
    "    num_pages = len(pdf_reader.pages)\n",
    "    # Number of pages in the PDF file\n",
    "    print(\"No. of Pages:\", num_pages)\n"
   ]
  },
  {
   "cell_type": "code",
   "execution_count": 188,
   "metadata": {},
   "outputs": [],
   "source": [
    "pdf_file = 'Crawfords_Auto_Repair_Guide.pdf'\n",
    "pdf_reader = PyPDF2.PdfReader(pdf_file)"
   ]
  },
  {
   "cell_type": "code",
   "execution_count": 189,
   "metadata": {},
   "outputs": [
    {
     "data": {
      "text/plain": [
       "84"
      ]
     },
     "execution_count": 189,
     "metadata": {},
     "output_type": "execute_result"
    }
   ],
   "source": [
    "num_pages = len(pdf_reader.pages)\n",
    "num_pages"
   ]
  },
  {
   "cell_type": "code",
   "execution_count": 190,
   "metadata": {},
   "outputs": [],
   "source": [
    "pdf_data = []\n",
    "for page_num in range(num_pages):\n",
    "    page_obj = pdf_reader.pages[page_num]\n",
    "    page_dict = {\n",
    "        'document': pdf_file,\n",
    "        'page_num': page_num,\n",
    "        'text_length': len(page_obj.extract_text()),\n",
    "        'text': page_obj.extract_text()\n",
    "    }\n",
    "    pdf_data.append(page_dict)"
   ]
  },
  {
   "cell_type": "code",
   "execution_count": 191,
   "metadata": {},
   "outputs": [],
   "source": [
    "import pandas as pd\n",
    "df = pd.DataFrame(pdf_data)\n"
   ]
  },
  {
   "cell_type": "code",
   "execution_count": 192,
   "metadata": {},
   "outputs": [],
   "source": [
    "df.drop(df[df['text_length'] == 0].index, inplace=True)"
   ]
  },
  {
   "cell_type": "code",
   "execution_count": 193,
   "metadata": {},
   "outputs": [
    {
     "data": {
      "text/plain": [
       "count      83.000000\n",
       "mean     1470.530120\n",
       "std       864.833994\n",
       "min        71.000000\n",
       "25%       885.000000\n",
       "50%      1365.000000\n",
       "75%      1946.500000\n",
       "max      3502.000000\n",
       "Name: text_length, dtype: float64"
      ]
     },
     "execution_count": 193,
     "metadata": {},
     "output_type": "execute_result"
    }
   ],
   "source": [
    "df['text_length'].describe()"
   ]
  },
  {
   "cell_type": "code",
   "execution_count": 194,
   "metadata": {},
   "outputs": [],
   "source": [
    "df = df.reset_index().rename(columns={'index': 'idx'})\n"
   ]
  },
  {
   "cell_type": "code",
   "execution_count": 195,
   "metadata": {},
   "outputs": [],
   "source": [
    "df.to_csv('Crawfords_Auto_Repair_Guide.csv', index=False)"
   ]
  },
  {
   "cell_type": "code",
   "execution_count": 196,
   "metadata": {},
   "outputs": [],
   "source": [
    "pdf_data_clean = df.to_dict(orient='records', index=True)"
   ]
  },
  {
   "cell_type": "code",
   "execution_count": 197,
   "metadata": {},
   "outputs": [
    {
     "data": {
      "text/plain": [
       "{'idx': 2,\n",
       " 'document': 'Crawfords_Auto_Repair_Guide.pdf',\n",
       " 'page_num': 2,\n",
       " 'text_length': 1539,\n",
       " 'text': 'The Crawford\\x01s Auto Repair Guide to Beginner\\x01s Auto Maintenance & Repair \\nBy Jeff Crawford, Crawford\\x01s Auto Repair \\nContributing Author: Rex Kimball, Mirex Marketing \\nText copyright © Jeff Crawford, Rex Kimball \\nAll rights reserved for printed and all digital formats. The following license is granted in \\nPDF: \\nThis book is available in PDF for free, and it can be reproduced, shared and sold for \\nprofit royalty-free in PDF, but it a cannot be changed or adapted in content or format without the authors\\x01 consent. Go go http://www.crawfordsautoservice.com/crawfords- \\nauto-repair-guide-free-ebook/  to download for free. \\nMany of the images in this book are protected by copyright as cited. Some images are \\nin the creative commons with \\x02free use\\x03 licenses. Some are in the public domain or \\npresumed to be in the public domain. Claims of any inaccuracies should be brought to \\nthe authors\\x01 attention to have the images in question removed from this book. \\nCrawford\\x01s Auto, Crawford\\x01s Automotive, Crawfords Auto Service, Crawford\\x01s Auto \\nRepair, CrawfordsAutoService.com, and the Crawford\\x01s Auto Repair log are trademarks \\nof Crawford\\x01s Auto Repair in Mesa, AZ 85210 \\nMirex Marketing and MirexMarketing.com are trademarks of Mirex, LLC in Arizona. \\nAll other copyrights and trademarks are property of their respective owners. \\nThis book is for informational purposes only. The authors are not liable for any accident \\nor injury that may occur when working with motor vehicles. By proceeding to read this \\nbook, you agree to these terms. '}"
      ]
     },
     "execution_count": 197,
     "metadata": {},
     "output_type": "execute_result"
    }
   ],
   "source": [
    "pdf_data_clean[2]"
   ]
  },
  {
   "cell_type": "code",
   "execution_count": 198,
   "metadata": {},
   "outputs": [],
   "source": [
    "def upsert_pdf_data(pdf_data_clean, batch_size=5):\n",
    "\n",
    "    from tqdm.auto import tqdm\n",
    "    from time import sleep\n",
    "\n",
    "    for i in tqdm(range(0, len(pdf_data_clean), batch_size)):\n",
    "        # find end of batch\n",
    "        i_end = min(len(pdf_data_clean), i + batch_size)\n",
    "        print(\"i, i_end: \", i, i_end)\n",
    "        meta_batch = pdf_data_clean[i:i_end] # chunk the data into batches\n",
    "        # get ids\n",
    "        ids_batch = [str(x['idx']) for x in meta_batch] # must be string\n",
    "        # get texts to encode\n",
    "        texts = [x['text'] for x in meta_batch]\n",
    "        \n",
    "        # create embeddings (try-except added to avoid RateLimitError)\n",
    "        try:\n",
    "            # print('Trying embedding')\n",
    "            res = openai.Embedding.create(input=texts, engine=embed_model)  \n",
    "        except:\n",
    "            print('Error on first try, sleeping for 5 seconds')\n",
    "            done = False\n",
    "            while not done:\n",
    "                sleep(5)\n",
    "                print('sleeping for 5 second')\n",
    "                try:\n",
    "                    print('trying again...')\n",
    "                    res = openai.Embedding.create(input=texts, engine=embed_model)\n",
    "                    done = True\n",
    "                except:\n",
    "                    pass\n",
    "\n",
    "        embeds = [record['embedding'] for record in res['data']]\n",
    "        # print(x)\n",
    "        # print(meta_batch)\n",
    "\n",
    "        new_meta_batch = [{'document': x['document'], \n",
    "                            'page_num': x['page_num'], \n",
    "                            'text_length': x['text_length'],\n",
    "                            'text': x['text']} \n",
    "                            for x in meta_batch]\n",
    "        # print(new_meta_batch)\n",
    "\n",
    "        to_upsert = list(zip(ids_batch, embeds, new_meta_batch))\n",
    "\n",
    "        # upsert to Pinecone\n",
    "        index.upsert(vectors = to_upsert) # upsert is a combination of insert and update"
   ]
  },
  {
   "cell_type": "code",
   "execution_count": 199,
   "metadata": {},
   "outputs": [],
   "source": [
    "query = \"How do I change my oil?\"\n",
    "\n",
    "def retrieve_from_query(query, top_k=2):\n",
    "    # retrieve from Pinecone\n",
    "    embedded_question = openai.Embedding.create(\\\n",
    "        input=[query], engine=embed_model)['data'][0]['embedding']\n",
    "\n",
    "    # get relevant contexts (including the questions)\n",
    "    query_result = index.query(embedded_question, top_k=top_k, include_metadata=True)\n",
    "    return query_result"
   ]
  },
  {
   "cell_type": "code",
   "execution_count": 200,
   "metadata": {},
   "outputs": [],
   "source": [
    "def retrieve_relevant_text(query_result):\n",
    "    # get relevant contexts (including the questions)\n",
    "    texts = [x['metadata']['text'] for x in query_result['matches']]\n",
    "    context = '\\n\\n'.join(texts)\n",
    "    return context"
   ]
  },
  {
   "cell_type": "code",
   "execution_count": 177,
   "metadata": {},
   "outputs": [],
   "source": [
    "def get_source_info(query_result):\n",
    "    info=\"\"\n",
    "    for x in query_result['matches']:\n",
    "        document = x['metadata']['document']\n",
    "        page_num = x['metadata']['page_num']\n",
    "        info += \"Document: \" + document + \",  Page #: \" + str(page_num) + \"\\n\"\n",
    "        \n",
    "    return info\n",
    "\n",
    "# print(get_source_info(query_result))"
   ]
  },
  {
   "cell_type": "code",
   "execution_count": null,
   "metadata": {},
   "outputs": [],
   "source": []
  },
  {
   "cell_type": "code",
   "execution_count": 203,
   "metadata": {},
   "outputs": [
    {
     "name": "stdout",
     "output_type": "stream",
     "text": [
      "Crawford\u0001s Guide to Beginners Auto Maintenance & Repair  www.CrawfordsAutoService.com \n",
      "17 Engine Oil . Engine oil should be checked each time the vehicle is refueled (i.e. each \n",
      "time you go to the gas station). Most engines, but not all, have a dipstick to indicate the \n",
      "oil level. Typically the handle is yellow. Follow these steps to check the oil: \n",
      "Turn the engine off. \n",
      "Remove the dipstick. \n",
      "Wipe off the end of the dipstick with a rag or paper towel. \n",
      "Put the dipstick back in. \n",
      "Take it out to look at the level at the tip \n",
      "The stick will have marks on it. The \u0002add\u0003 mark typically indicates one quart low. If an \n",
      "engine is leaking oil then the price of repairs can vary depending on which repair is needed and the make and model of the vehicle. \n",
      "Oil dipstick (above) and oil level on a dipstick (below) \n",
      "Image credits: both CC-BY-SA-Dvortygirl on Wikipedia \n",
      "\n",
      "\n",
      "Crawford\u0001s Guide to Beginners Auto Maintenance & Repair  www.CrawfordsAutoService.com \n",
      "45 Engine Oil \n",
      "Sample of motor oil \n",
      "The purpose of engine oil is to form a film of lubrication between all moving parts of an \n",
      "internal combustion engine to reduce friction and wear. Choosing the right engine oil for your vehicle and changing the oil during regularly-scheduled maintenance intervals will keep the engine running smoothly over time. The recommended oil type and specification for your vehicle can be found in the owner's manual. Another place to find it is on the oil fill cap. It will be based on the ambient temperature where you live. There are two engine oil codes that the owner\u0001s manual will specify, an API and an SAE. \n",
      "All oil has an API code which stands for American Petroleum Institute. It's a service \n",
      "rating for the quality, cleanliness, and types of detergents in the oil. The code will always be two letters. \n",
      "The SAE is the viscosity or thickness of the oil. Modern oil is multi-viscosity oil. The SAE \n",
      "may be something to the effect of 5W-30. The first number-letter combo (5W) indicates the viscosity or thickness of the oil when it is cold. The second number is the viscosity at the engine operating temperature. Before they had multi-viscosity oil there was only single-viscosity oil (such as SAE 30), which in cold weather was extremely thick. Trying to pour it into your engine would be like pouring honey, but more importantly it would be hard to pump the oil and lubricate the engine. That's why older engines had to be warmed up before you could drive them. \n",
      "\n",
      "Document: Crawfords_Auto_Repair_Guide.pdf,  Page #: 21.0\n",
      "Document: Crawfords_Auto_Repair_Guide.pdf,  Page #: 49.0\n",
      "\n"
     ]
    }
   ],
   "source": [
    "query = \"How do I change my oil?\"\n",
    "\n",
    "query_result = retrieve_from_query(query, top_k=2)\n",
    "text = retrieve_relevant_text(query_result)\n",
    "source_info = get_source_info(query_result)\n",
    "# print(query_result)\n",
    "\n",
    "print(text)\n",
    "print(source_info)"
   ]
  },
  {
   "cell_type": "code",
   "execution_count": 204,
   "metadata": {},
   "outputs": [
    {
     "data": {
      "text/plain": [
       "{'dimension': 1536,\n",
       " 'index_fullness': 0.0,\n",
       " 'namespaces': {'': {'vector_count': 83}},\n",
       " 'total_vector_count': 83}"
      ]
     },
     "execution_count": 204,
     "metadata": {},
     "output_type": "execute_result"
    }
   ],
   "source": [
    "index.describe_index_stats()"
   ]
  },
  {
   "cell_type": "code",
   "execution_count": 247,
   "metadata": {},
   "outputs": [],
   "source": [
    "chat_response = openai.ChatCompletion.create(\n",
    "    model=\"gpt-3.5-turbo\", \n",
    "    messages=[\n",
    "        {\"role\": \"system\", \"content\": \"You are a chatbot.\"},\n",
    "        {\"role\": \"user\", \"content\":\"hello\" }])"
   ]
  },
  {
   "cell_type": "code",
   "execution_count": 248,
   "metadata": {},
   "outputs": [
    {
     "data": {
      "text/plain": [
       "'Hello! How can I assist you today?'"
      ]
     },
     "execution_count": 248,
     "metadata": {},
     "output_type": "execute_result"
    }
   ],
   "source": [
    "chat_response.choices[0].message.content"
   ]
  },
  {
   "cell_type": "code",
   "execution_count": 236,
   "metadata": {},
   "outputs": [],
   "source": [
    "system_prompt_template = \"\"\"You are a expert mechanic. You are helping a customer with a car repair problem.\\\n",
    "You answer the customer's question and provide a snippet to a relevant page in the repair manual.\\\n",
    "The relevant page of the specific repair manual is provided below.\\n \\\n",
    "Repair manual:\\n {context} \\n\\n\n",
    "proceed to answer the customer's question.\\n\\n\"\"\""
   ]
  },
  {
   "cell_type": "code",
   "execution_count": 220,
   "metadata": {},
   "outputs": [
    {
     "name": "stdout",
     "output_type": "stream",
     "text": [
      " You are a expert mechanic. You are helping a customer with a car repair problem.You answer the customer's question and provide a snippet to a relevant page in the repair manual.The relevant page of the specific repair manual is provided below delimited in triple backticks.\n",
      " Repair manual ```sdkfhassadkfjba;sgb``` \n",
      "\n",
      "\n",
      "proceed to answer the customer's question below.\n"
     ]
    }
   ],
   "source": [
    "context = 'sdkfhassadkfjba;sgb'\n",
    "prompt = system_prompt_template.format(context=context)\n",
    "print(prompt)"
   ]
  },
  {
   "cell_type": "code",
   "execution_count": 255,
   "metadata": {},
   "outputs": [],
   "source": [
    "def answer_question(question, system_prompt_template, retrieved_text):\n",
    "\n",
    "    system_prompt = system_prompt_template.format(context=retrieved_text)\n",
    "    # print(system_prompt)\n",
    "    # print(question)\n",
    "    chat_response = openai.ChatCompletion.create(\n",
    "        model=\"gpt-3.5-turbo\", \n",
    "        messages=[\n",
    "            {\"role\": \"system\", \"content\": system_prompt},\n",
    "            {\"role\": \"user\", \"content\": question }])\n",
    "\n",
    "    answer = chat_response.choices[0].message.content\n",
    "    return answer"
   ]
  },
  {
   "cell_type": "code",
   "execution_count": 256,
   "metadata": {},
   "outputs": [
    {
     "data": {
      "text/plain": [
       "\"To change your oil, you will need to locate the oil drain plug and the oil filter on your vehicle. Here are the general steps to follow:\\n\\n1. Gather the necessary tools and supplies: a wrench or socket set, an oil filter wrench, a drain pan, a new oil filter, and the correct type and amount of engine oil as specified in your owner's manual.\\n\\n2. Park your vehicle on a flat surface and turn off the engine. Make sure it has cooled down to avoid any potential burns.\\n\\n3. Locate the oil drain plug underneath the engine. Place the drain pan directly beneath it to catch the old oil.\\n\\n4. Use a wrench or socket set to carefully loosen and remove the drain plug. Allow the old oil to completely drain into the pan.\\n\\n5. While the oil is draining, locate the oil filter on the engine. Use an oil filter wrench to remove it, turning it counterclockwise.\\n\\n6. Once the old oil has finished draining, replace the drain plug and tighten it securely with your wrench or socket set.\\n\\n7. Before installing the new oil filter, lightly coat the rubber gasket on the filter with fresh oil. This helps create a good seal.\\n\\n8. Install the new oil filter by hand, tightening it until it is snug. Do not over-tighten.\\n\\n9. Refer to your owner's manual for the correct amount and type of engine oil to use. Remove the oil fill cap on top of the engine and carefully pour in the new oil.\\n\\n10. After adding the new oil, replace the oil fill cap.\\n\\n11. Start the engine and let it run for a few minutes. Check for any leaks around the drain plug and oil filter.\\n\\n12. Turn off the engine and wait a few minutes for the oil to settle. Then, use the dipstick to check the oil level. If needed, add more oil until it reaches the appropriate level.\\n\\n13. Properly dispose of the old oil and oil filter at a recycling center.\\n\\nFor more detailed and specific instructions, I recommend referring to page 17 of Crawford's Guide to Beginners Auto Maintenance & Repair. [Link to page 17 of repair manual]\""
      ]
     },
     "execution_count": 256,
     "metadata": {},
     "output_type": "execute_result"
    }
   ],
   "source": [
    "answer_question(\"How do I change my oil?\", system_prompt_template, context)"
   ]
  },
  {
   "cell_type": "code",
   "execution_count": 229,
   "metadata": {},
   "outputs": [],
   "source": [
    "query = \"How do I change my oil?\"\n",
    "query_result = retrieve_from_query(query, top_k=2)\n",
    "retrieved_text = retrieve_relevant_text(query_result)"
   ]
  },
  {
   "cell_type": "code",
   "execution_count": 257,
   "metadata": {},
   "outputs": [
    {
     "data": {
      "text/plain": [
       "\"Crawford\\x01s Guide to Beginners Auto Maintenance & Repair  www.CrawfordsAutoService.com \\n17 Engine Oil . Engine oil should be checked each time the vehicle is refueled (i.e. each \\ntime you go to the gas station). Most engines, but not all, have a dipstick to indicate the \\noil level. Typically the handle is yellow. Follow these steps to check the oil: \\n\\uf0b7Turn the engine off. \\n\\uf0b7Remove the dipstick. \\n\\uf0b7Wipe off the end of the dipstick with a rag or paper towel. \\n\\uf0b7Put the dipstick back in. \\n\\uf0b7Take it out to look at the level at the tip \\nThe stick will have marks on it. The \\x02add\\x03 mark typically indicates one quart low. If an \\nengine is leaking oil then the price of repairs can vary depending on which repair is needed and the make and model of the vehicle. \\nOil dipstick (above) and oil level on a dipstick (below) \\nImage credits: both CC-BY-SA-Dvortygirl on Wikipedia \\n\\n\\nCrawford\\x01s Guide to Beginners Auto Maintenance & Repair  www.CrawfordsAutoService.com \\n45 Engine Oil \\nSample of motor oil \\nThe purpose of engine oil is to form a film of lubrication between all moving parts of an \\ninternal combustion engine to reduce friction and wear. Choosing the right engine oil for your vehicle and changing the oil during regularly-scheduled maintenance intervals will keep the engine running smoothly over time. The recommended oil type and specification for your vehicle can be found in the owner's manual. Another place to find it is on the oil fill cap. It will be based on the ambient temperature where you live. There are two engine oil codes that the owner\\x01s manual will specify, an API and an SAE. \\nAll oil has an API code which stands for American Petroleum Institute. It's a service \\nrating for the quality, cleanliness, and types of detergents in the oil. The code will always be two letters. \\nThe SAE is the viscosity or thickness of the oil. Modern oil is multi-viscosity oil. The SAE \\nmay be something to the effect of 5W-30. The first number-letter combo (5W) indicates the viscosity or thickness of the oil when it is cold. The second number is the viscosity at the engine operating temperature. Before they had multi-viscosity oil there was only single-viscosity oil (such as SAE 30), which in cold weather was extremely thick. Trying to pour it into your engine would be like pouring honey, but more importantly it would be hard to pump the oil and lubricate the engine. That's why older engines had to be warmed up before you could drive them. \\n\""
      ]
     },
     "execution_count": 257,
     "metadata": {},
     "output_type": "execute_result"
    }
   ],
   "source": [
    "retrieved_text"
   ]
  },
  {
   "cell_type": "code",
   "execution_count": 245,
   "metadata": {},
   "outputs": [
    {
     "name": "stdout",
     "output_type": "stream",
     "text": [
      "You are a expert mechanic. You are helping a customer with a car repair problem.You answer the customer's question and provide a snippet to a relevant page in the repair manual.The relevant page of the specific repair manual is provided below.\n",
      " Repair manual:\n",
      " Crawford\u0001s Guide to Beginners Auto Maintenance & Repair  www.CrawfordsAutoService.com \n",
      "17 Engine Oil . Engine oil should be checked each time the vehicle is refueled (i.e. each \n",
      "time you go to the gas station). Most engines, but not all, have a dipstick to indicate the \n",
      "oil level. Typically the handle is yellow. Follow these steps to check the oil: \n",
      "Turn the engine off. \n",
      "Remove the dipstick. \n",
      "Wipe off the end of the dipstick with a rag or paper towel. \n",
      "Put the dipstick back in. \n",
      "Take it out to look at the level at the tip \n",
      "The stick will have marks on it. The \u0002add\u0003 mark typically indicates one quart low. If an \n",
      "engine is leaking oil then the price of repairs can vary depending on which repair is needed and the make and model of the vehicle. \n",
      "Oil dipstick (above) and oil level on a dipstick (below) \n",
      "Image credits: both CC-BY-SA-Dvortygirl on Wikipedia \n",
      "\n",
      "\n",
      "Crawford\u0001s Guide to Beginners Auto Maintenance & Repair  www.CrawfordsAutoService.com \n",
      "45 Engine Oil \n",
      "Sample of motor oil \n",
      "The purpose of engine oil is to form a film of lubrication between all moving parts of an \n",
      "internal combustion engine to reduce friction and wear. Choosing the right engine oil for your vehicle and changing the oil during regularly-scheduled maintenance intervals will keep the engine running smoothly over time. The recommended oil type and specification for your vehicle can be found in the owner's manual. Another place to find it is on the oil fill cap. It will be based on the ambient temperature where you live. There are two engine oil codes that the owner\u0001s manual will specify, an API and an SAE. \n",
      "All oil has an API code which stands for American Petroleum Institute. It's a service \n",
      "rating for the quality, cleanliness, and types of detergents in the oil. The code will always be two letters. \n",
      "The SAE is the viscosity or thickness of the oil. Modern oil is multi-viscosity oil. The SAE \n",
      "may be something to the effect of 5W-30. The first number-letter combo (5W) indicates the viscosity or thickness of the oil when it is cold. The second number is the viscosity at the engine operating temperature. Before they had multi-viscosity oil there was only single-viscosity oil (such as SAE 30), which in cold weather was extremely thick. Trying to pour it into your engine would be like pouring honey, but more importantly it would be hard to pump the oil and lubricate the engine. That's why older engines had to be warmed up before you could drive them. \n",
      " \n",
      "\n",
      "\n",
      "proceed to answer the customer's question.\n",
      "\n",
      "\n",
      "How do I change my oil?\n"
     ]
    },
    {
     "ename": "InvalidRequestError",
     "evalue": "Unrecognized request argument supplied: messages",
     "output_type": "error",
     "traceback": [
      "\u001b[1;31m---------------------------------------------------------------------------\u001b[0m",
      "\u001b[1;31mInvalidRequestError\u001b[0m                       Traceback (most recent call last)",
      "Cell \u001b[1;32mIn[245], line 1\u001b[0m\n\u001b[1;32m----> 1\u001b[0m answer_question(query, system_prompt_template, retrieved_text)\n",
      "Cell \u001b[1;32mIn[244], line 6\u001b[0m, in \u001b[0;36manswer_question\u001b[1;34m(question, system_prompt_template, retrieved_text)\u001b[0m\n\u001b[0;32m      4\u001b[0m \u001b[39mprint\u001b[39m(system_prompt)\n\u001b[0;32m      5\u001b[0m \u001b[39mprint\u001b[39m(question)\n\u001b[1;32m----> 6\u001b[0m chat_response \u001b[39m=\u001b[39m openai\u001b[39m.\u001b[39;49mCompletion\u001b[39m.\u001b[39;49mcreate(\n\u001b[0;32m      7\u001b[0m     model\u001b[39m=\u001b[39;49m\u001b[39m\"\u001b[39;49m\u001b[39mgpt-3.5-turbo\u001b[39;49m\u001b[39m\"\u001b[39;49m, \n\u001b[0;32m      8\u001b[0m     \u001b[39m# temperature=0.2,\u001b[39;49;00m\n\u001b[0;32m      9\u001b[0m     messages\u001b[39m=\u001b[39;49m[\n\u001b[0;32m     10\u001b[0m         {\u001b[39m\"\u001b[39;49m\u001b[39mrole\u001b[39;49m\u001b[39m\"\u001b[39;49m: \u001b[39m\"\u001b[39;49m\u001b[39msystem\u001b[39;49m\u001b[39m\"\u001b[39;49m, \u001b[39m\"\u001b[39;49m\u001b[39mcontent\u001b[39;49m\u001b[39m\"\u001b[39;49m: \u001b[39m\"\u001b[39;49m\u001b[39myou are helpfully answering a customer\u001b[39;49m\u001b[39m'\u001b[39;49m\u001b[39ms question.\u001b[39;49m\u001b[39m\"\u001b[39;49m},\n\u001b[0;32m     11\u001b[0m         {\u001b[39m\"\u001b[39;49m\u001b[39mrole\u001b[39;49m\u001b[39m\"\u001b[39;49m: \u001b[39m\"\u001b[39;49m\u001b[39muser\u001b[39;49m\u001b[39m\"\u001b[39;49m, \u001b[39m\"\u001b[39;49m\u001b[39mcontent\u001b[39;49m\u001b[39m\"\u001b[39;49m: \u001b[39m\"\u001b[39;49m\u001b[39mhello\u001b[39;49m\u001b[39m\"\u001b[39;49m}]\n\u001b[0;32m     12\u001b[0m         )\n\u001b[0;32m     14\u001b[0m answer \u001b[39m=\u001b[39m chat_response\u001b[39m.\u001b[39mchoices[\u001b[39m0\u001b[39m]\u001b[39m.\u001b[39mmessage\u001b[39m.\u001b[39mcontent\n\u001b[0;32m     15\u001b[0m \u001b[39mreturn\u001b[39;00m answer\n",
      "File \u001b[1;32mc:\\Users\\johnk\\Projects-code\\Auto-Repair-GPT\\.venv\\lib\\site-packages\\openai\\api_resources\\completion.py:25\u001b[0m, in \u001b[0;36mCompletion.create\u001b[1;34m(cls, *args, **kwargs)\u001b[0m\n\u001b[0;32m     23\u001b[0m \u001b[39mwhile\u001b[39;00m \u001b[39mTrue\u001b[39;00m:\n\u001b[0;32m     24\u001b[0m     \u001b[39mtry\u001b[39;00m:\n\u001b[1;32m---> 25\u001b[0m         \u001b[39mreturn\u001b[39;00m \u001b[39msuper\u001b[39m()\u001b[39m.\u001b[39mcreate(\u001b[39m*\u001b[39margs, \u001b[39m*\u001b[39m\u001b[39m*\u001b[39mkwargs)\n\u001b[0;32m     26\u001b[0m     \u001b[39mexcept\u001b[39;00m TryAgain \u001b[39mas\u001b[39;00m e:\n\u001b[0;32m     27\u001b[0m         \u001b[39mif\u001b[39;00m timeout \u001b[39mis\u001b[39;00m \u001b[39mnot\u001b[39;00m \u001b[39mNone\u001b[39;00m \u001b[39mand\u001b[39;00m time\u001b[39m.\u001b[39mtime() \u001b[39m>\u001b[39m start \u001b[39m+\u001b[39m timeout:\n",
      "File \u001b[1;32mc:\\Users\\johnk\\Projects-code\\Auto-Repair-GPT\\.venv\\lib\\site-packages\\openai\\api_resources\\abstract\\engine_api_resource.py:153\u001b[0m, in \u001b[0;36mEngineAPIResource.create\u001b[1;34m(cls, api_key, api_base, api_type, request_id, api_version, organization, **params)\u001b[0m\n\u001b[0;32m    127\u001b[0m \u001b[39m@classmethod\u001b[39m\n\u001b[0;32m    128\u001b[0m \u001b[39mdef\u001b[39;00m \u001b[39mcreate\u001b[39m(\n\u001b[0;32m    129\u001b[0m     \u001b[39mcls\u001b[39m,\n\u001b[1;32m   (...)\u001b[0m\n\u001b[0;32m    136\u001b[0m     \u001b[39m*\u001b[39m\u001b[39m*\u001b[39mparams,\n\u001b[0;32m    137\u001b[0m ):\n\u001b[0;32m    138\u001b[0m     (\n\u001b[0;32m    139\u001b[0m         deployment_id,\n\u001b[0;32m    140\u001b[0m         engine,\n\u001b[1;32m   (...)\u001b[0m\n\u001b[0;32m    150\u001b[0m         api_key, api_base, api_type, api_version, organization, \u001b[39m*\u001b[39m\u001b[39m*\u001b[39mparams\n\u001b[0;32m    151\u001b[0m     )\n\u001b[1;32m--> 153\u001b[0m     response, _, api_key \u001b[39m=\u001b[39m requestor\u001b[39m.\u001b[39;49mrequest(\n\u001b[0;32m    154\u001b[0m         \u001b[39m\"\u001b[39;49m\u001b[39mpost\u001b[39;49m\u001b[39m\"\u001b[39;49m,\n\u001b[0;32m    155\u001b[0m         url,\n\u001b[0;32m    156\u001b[0m         params\u001b[39m=\u001b[39;49mparams,\n\u001b[0;32m    157\u001b[0m         headers\u001b[39m=\u001b[39;49mheaders,\n\u001b[0;32m    158\u001b[0m         stream\u001b[39m=\u001b[39;49mstream,\n\u001b[0;32m    159\u001b[0m         request_id\u001b[39m=\u001b[39;49mrequest_id,\n\u001b[0;32m    160\u001b[0m         request_timeout\u001b[39m=\u001b[39;49mrequest_timeout,\n\u001b[0;32m    161\u001b[0m     )\n\u001b[0;32m    163\u001b[0m     \u001b[39mif\u001b[39;00m stream:\n\u001b[0;32m    164\u001b[0m         \u001b[39m# must be an iterator\u001b[39;00m\n\u001b[0;32m    165\u001b[0m         \u001b[39massert\u001b[39;00m \u001b[39mnot\u001b[39;00m \u001b[39misinstance\u001b[39m(response, OpenAIResponse)\n",
      "File \u001b[1;32mc:\\Users\\johnk\\Projects-code\\Auto-Repair-GPT\\.venv\\lib\\site-packages\\openai\\api_requestor.py:230\u001b[0m, in \u001b[0;36mAPIRequestor.request\u001b[1;34m(self, method, url, params, headers, files, stream, request_id, request_timeout)\u001b[0m\n\u001b[0;32m    209\u001b[0m \u001b[39mdef\u001b[39;00m \u001b[39mrequest\u001b[39m(\n\u001b[0;32m    210\u001b[0m     \u001b[39mself\u001b[39m,\n\u001b[0;32m    211\u001b[0m     method,\n\u001b[1;32m   (...)\u001b[0m\n\u001b[0;32m    218\u001b[0m     request_timeout: Optional[Union[\u001b[39mfloat\u001b[39m, Tuple[\u001b[39mfloat\u001b[39m, \u001b[39mfloat\u001b[39m]]] \u001b[39m=\u001b[39m \u001b[39mNone\u001b[39;00m,\n\u001b[0;32m    219\u001b[0m ) \u001b[39m-\u001b[39m\u001b[39m>\u001b[39m Tuple[Union[OpenAIResponse, Iterator[OpenAIResponse]], \u001b[39mbool\u001b[39m, \u001b[39mstr\u001b[39m]:\n\u001b[0;32m    220\u001b[0m     result \u001b[39m=\u001b[39m \u001b[39mself\u001b[39m\u001b[39m.\u001b[39mrequest_raw(\n\u001b[0;32m    221\u001b[0m         method\u001b[39m.\u001b[39mlower(),\n\u001b[0;32m    222\u001b[0m         url,\n\u001b[1;32m   (...)\u001b[0m\n\u001b[0;32m    228\u001b[0m         request_timeout\u001b[39m=\u001b[39mrequest_timeout,\n\u001b[0;32m    229\u001b[0m     )\n\u001b[1;32m--> 230\u001b[0m     resp, got_stream \u001b[39m=\u001b[39m \u001b[39mself\u001b[39;49m\u001b[39m.\u001b[39;49m_interpret_response(result, stream)\n\u001b[0;32m    231\u001b[0m     \u001b[39mreturn\u001b[39;00m resp, got_stream, \u001b[39mself\u001b[39m\u001b[39m.\u001b[39mapi_key\n",
      "File \u001b[1;32mc:\\Users\\johnk\\Projects-code\\Auto-Repair-GPT\\.venv\\lib\\site-packages\\openai\\api_requestor.py:624\u001b[0m, in \u001b[0;36mAPIRequestor._interpret_response\u001b[1;34m(self, result, stream)\u001b[0m\n\u001b[0;32m    616\u001b[0m     \u001b[39mreturn\u001b[39;00m (\n\u001b[0;32m    617\u001b[0m         \u001b[39mself\u001b[39m\u001b[39m.\u001b[39m_interpret_response_line(\n\u001b[0;32m    618\u001b[0m             line, result\u001b[39m.\u001b[39mstatus_code, result\u001b[39m.\u001b[39mheaders, stream\u001b[39m=\u001b[39m\u001b[39mTrue\u001b[39;00m\n\u001b[0;32m    619\u001b[0m         )\n\u001b[0;32m    620\u001b[0m         \u001b[39mfor\u001b[39;00m line \u001b[39min\u001b[39;00m parse_stream(result\u001b[39m.\u001b[39miter_lines())\n\u001b[0;32m    621\u001b[0m     ), \u001b[39mTrue\u001b[39;00m\n\u001b[0;32m    622\u001b[0m \u001b[39melse\u001b[39;00m:\n\u001b[0;32m    623\u001b[0m     \u001b[39mreturn\u001b[39;00m (\n\u001b[1;32m--> 624\u001b[0m         \u001b[39mself\u001b[39;49m\u001b[39m.\u001b[39;49m_interpret_response_line(\n\u001b[0;32m    625\u001b[0m             result\u001b[39m.\u001b[39;49mcontent\u001b[39m.\u001b[39;49mdecode(\u001b[39m\"\u001b[39;49m\u001b[39mutf-8\u001b[39;49m\u001b[39m\"\u001b[39;49m),\n\u001b[0;32m    626\u001b[0m             result\u001b[39m.\u001b[39;49mstatus_code,\n\u001b[0;32m    627\u001b[0m             result\u001b[39m.\u001b[39;49mheaders,\n\u001b[0;32m    628\u001b[0m             stream\u001b[39m=\u001b[39;49m\u001b[39mFalse\u001b[39;49;00m,\n\u001b[0;32m    629\u001b[0m         ),\n\u001b[0;32m    630\u001b[0m         \u001b[39mFalse\u001b[39;00m,\n\u001b[0;32m    631\u001b[0m     )\n",
      "File \u001b[1;32mc:\\Users\\johnk\\Projects-code\\Auto-Repair-GPT\\.venv\\lib\\site-packages\\openai\\api_requestor.py:687\u001b[0m, in \u001b[0;36mAPIRequestor._interpret_response_line\u001b[1;34m(self, rbody, rcode, rheaders, stream)\u001b[0m\n\u001b[0;32m    685\u001b[0m stream_error \u001b[39m=\u001b[39m stream \u001b[39mand\u001b[39;00m \u001b[39m\"\u001b[39m\u001b[39merror\u001b[39m\u001b[39m\"\u001b[39m \u001b[39min\u001b[39;00m resp\u001b[39m.\u001b[39mdata\n\u001b[0;32m    686\u001b[0m \u001b[39mif\u001b[39;00m stream_error \u001b[39mor\u001b[39;00m \u001b[39mnot\u001b[39;00m \u001b[39m200\u001b[39m \u001b[39m<\u001b[39m\u001b[39m=\u001b[39m rcode \u001b[39m<\u001b[39m \u001b[39m300\u001b[39m:\n\u001b[1;32m--> 687\u001b[0m     \u001b[39mraise\u001b[39;00m \u001b[39mself\u001b[39m\u001b[39m.\u001b[39mhandle_error_response(\n\u001b[0;32m    688\u001b[0m         rbody, rcode, resp\u001b[39m.\u001b[39mdata, rheaders, stream_error\u001b[39m=\u001b[39mstream_error\n\u001b[0;32m    689\u001b[0m     )\n\u001b[0;32m    690\u001b[0m \u001b[39mreturn\u001b[39;00m resp\n",
      "\u001b[1;31mInvalidRequestError\u001b[0m: Unrecognized request argument supplied: messages"
     ]
    }
   ],
   "source": [
    "answer_question(query, system_prompt_template, retrieved_text)"
   ]
  }
 ],
 "metadata": {
  "kernelspec": {
   "display_name": ".venv",
   "language": "python",
   "name": "python3"
  },
  "language_info": {
   "codemirror_mode": {
    "name": "ipython",
    "version": 3
   },
   "file_extension": ".py",
   "mimetype": "text/x-python",
   "name": "python",
   "nbconvert_exporter": "python",
   "pygments_lexer": "ipython3",
   "version": "3.9.13"
  },
  "orig_nbformat": 4
 },
 "nbformat": 4,
 "nbformat_minor": 2
}
